{
 "cells": [
  {
   "cell_type": "markdown",
   "metadata": {},
   "source": [
    "## What is Semantic Router\n",
    "\n",
    "A Semantic Router is a component used in chatbots and natural language processing to `quickly determine the most suitable responses or language models for user queries`. It works by leveraging the `semantic vector space`, allowing for gast decision-making without waiting for the slower response generation tipically associated with LLMs. This technology is both `deterministic`, meaning it can trigger specific responses bases on predifined queries, and `flexible`, capable of handling similar but not identical inquiries. It's aimed to enhance chatbot responsiveness and decision-making efficiency. "
   ]
  },
  {
   "cell_type": "markdown",
   "metadata": {},
   "source": [
    "## How does it work?\n",
    "\n",
    "The Semantic Router enhances chatbot interactions by smartly guiding responses to user queries."
   ]
  },
  {
   "cell_type": "markdown",
   "metadata": {},
   "source": []
  },
  {
   "cell_type": "code",
   "execution_count": null,
   "metadata": {},
   "outputs": [],
   "source": []
  }
 ],
 "metadata": {
  "language_info": {
   "name": "python"
  }
 },
 "nbformat": 4,
 "nbformat_minor": 2
}
