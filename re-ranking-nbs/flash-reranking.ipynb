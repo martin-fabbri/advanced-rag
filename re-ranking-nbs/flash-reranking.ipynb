{
 "cells": [
  {
   "cell_type": "markdown",
   "metadata": {},
   "source": [
    "### Flash ReRank\n",
    "\n",
    "Models are better at using relevant information that occurs at the very begging (primacy bias) or end of it's input context (recency bias), and performance degrades significantly when models have to use information located in the middle of the input context."
   ]
  },
  {
   "cell_type": "markdown",
   "metadata": {},
   "source": [
    "- Cross Encoders\n",
    "- Zero shot rerankers"
   ]
  },
  {
   "cell_type": "code",
   "execution_count": 1,
   "metadata": {},
   "outputs": [
    {
     "name": "stdout",
     "output_type": "stream",
     "text": [
      "Note: you may need to restart the kernel to use updated packages.\n"
     ]
    }
   ],
   "source": [
    "%pip install -qqU flashrank"
   ]
  },
  {
   "cell_type": "code",
   "execution_count": 2,
   "metadata": {},
   "outputs": [],
   "source": [
    "from flashrank import Ranker\n",
    "\n",
    "ranker = Ranker()"
   ]
  },
  {
   "cell_type": "markdown",
   "metadata": {},
   "source": [
    "#### Small Ranker (~34MB), slightly slower & best performance (ranking precision)"
   ]
  },
  {
   "cell_type": "code",
   "execution_count": 3,
   "metadata": {},
   "outputs": [],
   "source": [
    "ranker_small = Ranker(model_name=\"ms-marco-MiniLM-L-12-v2\",\n",
    "                      cache_dir=\"../.cache/\")"
   ]
  },
  {
   "cell_type": "markdown",
   "metadata": {},
   "source": [
    "#### Medium (~110MB), slower model with best zeroshot performance (ranking precision) \n",
    "on out of domain data."
   ]
  },
  {
   "cell_type": "code",
   "execution_count": 4,
   "metadata": {},
   "outputs": [],
   "source": [
    "ranker_medium_t5 = Ranker(model_name=\"rank-T5-flan\", cache_dir=\"../.cache/\")"
   ]
  },
  {
   "cell_type": "markdown",
   "metadata": {},
   "source": [
    "# Medium (~150MB), slower model with competitive performance (ranking precision) \n",
    "for 100+ languages  (don't use for english)"
   ]
  },
  {
   "cell_type": "code",
   "execution_count": 5,
   "metadata": {},
   "outputs": [],
   "source": [
    "ranker_medium_int = Ranker(\n",
    "    model_name=\"ms-marco-MultiBERT-L-12\", cache_dir=\"../.cache/\")"
   ]
  },
  {
   "cell_type": "markdown",
   "metadata": {},
   "source": [
    "- Metadata is optimal. \n",
    "- IDs come from retrieval DB or simple numeric indices"
   ]
  },
  {
   "cell_type": "code",
   "execution_count": 6,
   "metadata": {},
   "outputs": [],
   "source": [
    "query = \"How to speedup LLMs?\""
   ]
  },
  {
   "cell_type": "code",
   "execution_count": 7,
   "metadata": {},
   "outputs": [],
   "source": [
    "passages = [\n",
    "    {\n",
    "        \"id\": 1,\n",
    "        \"text\": \"Introduce *lookahead decoding*: - a parallel decoding algo to accelerate LLM inference - w/o the need for a draft model or a data store - linearly decreases # decoding steps relative to log(FLOPs) used per decoding step.\",\n",
    "        \"meta\": {\"additional\": \"info1\"},\n",
    "    },\n",
    "    {\n",
    "        \"id\": 2,\n",
    "        \"text\": \"LLM inference efficiency will be one of the most crucial topics for both industry and academia, simply because the more efficient you are, the more $$$ you will save. vllm project is a must-read for this direction, and now they have just released the paper\",\n",
    "        \"meta\": {\"additional\": \"info2\"},\n",
    "    },\n",
    "    {\n",
    "        \"id\": 3,\n",
    "        \"text\": \"There are many ways to increase LLM inference throughput (tokens/second) and decrease memory footprint, sometimes at the same time. Here are a few methods I’ve found effective when working with Llama 2. These methods are all well-integrated with Hugging Face. This list is far from exhaustive; some of these techniques can be used in combination with each other and there are plenty of others to try. - Bettertransformer (Optimum Library): Simply call `model.to_bettertransformer()` on your Hugging Face model for a modest improvement in tokens per second. - Fp4 Mixed-Precision (Bitsandbytes): Requires minimal configuration and dramatically reduces the model's memory footprint. - AutoGPTQ: Time-consuming but leads to a much smaller model and faster inference. The quantization is a one-time cost that pays off in the long run.\",\n",
    "        \"meta\": {\"additional\": \"info3\"},\n",
    "    },\n",
    "    {\n",
    "        \"id\": 4,\n",
    "        \"text\": \"Ever want to make your LLM inference go brrrrr but got stuck at implementing speculative decoding and finding the suitable draft model? No more pain! Thrilled to unveil Medusa, a simple framework that removes the annoying draft model while getting 2x speedup.\",\n",
    "        \"meta\": {\"additional\": \"info4\"},\n",
    "    },\n",
    "    {\n",
    "        \"id\": 5,\n",
    "        \"text\": \"vLLM is a fast and easy-to-use library for LLM inference and serving. vLLM is fast with: State-of-the-art serving throughput Efficient management of attention key and value memory with PagedAttention Continuous batching of incoming requests Optimized CUDA kernels\",\n",
    "        \"meta\": {\"additional\": \"info5\"},\n",
    "    },\n",
    "]"
   ]
  },
  {
   "cell_type": "code",
   "execution_count": 8,
   "metadata": {},
   "outputs": [
    {
     "data": {
      "text/plain": [
       "[{'id': 4,\n",
       "  'text': 'Ever want to make your LLM inference go brrrrr but got stuck at implementing speculative decoding and finding the suitable draft model? No more pain! Thrilled to unveil Medusa, a simple framework that removes the annoying draft model while getting 2x speedup.',\n",
       "  'meta': {'additional': 'info4'},\n",
       "  'score': 0.95156515},\n",
       " {'id': 3,\n",
       "  'text': \"There are many ways to increase LLM inference throughput (tokens/second) and decrease memory footprint, sometimes at the same time. Here are a few methods I’ve found effective when working with Llama 2. These methods are all well-integrated with Hugging Face. This list is far from exhaustive; some of these techniques can be used in combination with each other and there are plenty of others to try. - Bettertransformer (Optimum Library): Simply call `model.to_bettertransformer()` on your Hugging Face model for a modest improvement in tokens per second. - Fp4 Mixed-Precision (Bitsandbytes): Requires minimal configuration and dramatically reduces the model's memory footprint. - AutoGPTQ: Time-consuming but leads to a much smaller model and faster inference. The quantization is a one-time cost that pays off in the long run.\",\n",
       "  'meta': {'additional': 'info3'},\n",
       "  'score': 0.8488172},\n",
       " {'id': 1,\n",
       "  'text': 'Introduce *lookahead decoding*: - a parallel decoding algo to accelerate LLM inference - w/o the need for a draft model or a data store - linearly decreases # decoding steps relative to log(FLOPs) used per decoding step.',\n",
       "  'meta': {'additional': 'info1'},\n",
       "  'score': 0.71835446},\n",
       " {'id': 5,\n",
       "  'text': 'vLLM is a fast and easy-to-use library for LLM inference and serving. vLLM is fast with: State-of-the-art serving throughput Efficient management of attention key and value memory with PagedAttention Continuous batching of incoming requests Optimized CUDA kernels',\n",
       "  'meta': {'additional': 'info5'},\n",
       "  'score': 0.5469595},\n",
       " {'id': 2,\n",
       "  'text': 'LLM inference efficiency will be one of the most crucial topics for both industry and academia, simply because the more efficient you are, the more $$$ you will save. vllm project is a must-read for this direction, and now they have just released the paper',\n",
       "  'meta': {'additional': 'info2'},\n",
       "  'score': 0.0047190813}]"
      ]
     },
     "execution_count": 8,
     "metadata": {},
     "output_type": "execute_result"
    }
   ],
   "source": [
    "from flashrank import RerankRequest\n",
    "\n",
    "rerank_request = RerankRequest(query=query, passages=passages)\n",
    "results = ranker_small.rerank(rerank_request)\n",
    "results"
   ]
  },
  {
   "cell_type": "markdown",
   "metadata": {},
   "source": [
    "#### Sample #2 - What is the US Capital?"
   ]
  },
  {
   "cell_type": "code",
   "execution_count": 9,
   "metadata": {},
   "outputs": [],
   "source": [
    "query = \"What is the capital of the United States?\""
   ]
  },
  {
   "cell_type": "code",
   "execution_count": 23,
   "metadata": {},
   "outputs": [],
   "source": [
    "passages = [\n",
    "    {\n",
    "        \"id\": 1,\n",
    "        \"text\": \"Carson City is the capital city of the American state of Nevada. At the  2010 United States Census, Carson City had a population of 55,274.\",\n",
    "        \"meta\": {},\n",
    "    },\n",
    "    {\n",
    "        \"id\": 2,\n",
    "        \"text\": \"The Commonwealth of the Northern Mariana Islands is a group of islands in the Pacific Ocean that are a political division controlled by the United States. Its capital is Saipan.\",\n",
    "        \"meta\": {},\n",
    "    },\n",
    "    {\n",
    "        \"id\": 3,\n",
    "        \"text\": \"Charlotte Amalie is the capital and largest city of the United States Virgin Islands. It has about 20,000 people. The city is on the island of Saint Thomas.\",\n",
    "        \"meta\": {},\n",
    "    },\n",
    "    {\n",
    "        \"id\": 4,\n",
    "        \"text\": \"Washington, D.C. (also known as simply Washington or D.C., and officially as the District of Columbia) is the capital of the United States. It is a federal district. \",\n",
    "        \"meta\": {},\n",
    "    },\n",
    "    {\n",
    "        \"id\": 5,\n",
    "        \"text\": \"The city of Washington, D.C. is not only known for its significant role in the United States' government but also as the capital city. It houses the President's residence, the White House, and serves as the hub for all three branches of the federal government.\",\n",
    "        \"meta\": {},\n",
    "    },\n",
    "    {\n",
    "        \"id\": 6,\n",
    "        \"text\": \"The economic capital of the United States is often considered to be New York City, due to its status as the home of the New York Stock Exchange and being a major hub for financial, cultural, and business activities.\",\n",
    "        \"meta\": {},\n",
    "    },\n",
    "    {\n",
    "        \"id\": 7,\n",
    "        \"text\": \"In the heart of the nation, Washington, D.C. stands out as the capital, where the U.S. Capitol Building, a symbol of the country's democracy, is located. This city is central to American politics and history, hosting numerous national landmarks.\",\n",
    "        \"meta\": {},\n",
    "    },\n",
    "    {\n",
    "        \"id\": 8,\n",
    "        \"text\": \"Capital punishment (the death penalty) has existed in the United States since before the United States was a country. As of 2017, capital punishment is legal in 30 of the 50 states.\",\n",
    "        \"meta\": {},\n",
    "    },\n",
    "    {\n",
    "        \"id\": 9,\n",
    "        \"text\": \"North Dakota is a state in the United States. 672,591 people lived in North Dakota in the year 2010. The capital and seat of government is Bismarck.\",\n",
    "        \"meta\": {},\n",
    "    },\n",
    "    {\n",
    "        \"id\": 10,\n",
    "        \"text\": \"The debate over the capital punishment in the United States often takes center stage in Washington, D.C., where policymakers and activists gather to discuss its implications on justice and human rights.\",\n",
    "        \"meta\": {},\n",
    "    },\n",
    "    {\n",
    "        \"id\": 11,\n",
    "        \"text\": \"Capital cities, including Washington, D.C., and state capitals like Olympia in Washington State, highlight the diversity of the United States. Each capital, with its unique history and culture, contributes to the rich tapestry that defines the American experience, from government operations to local heritage.\",\n",
    "        \"meta\": {},\n",
    "    },\n",
    "]"
   ]
  },
  {
   "cell_type": "code",
   "execution_count": 24,
   "metadata": {},
   "outputs": [
    {
     "name": "stdout",
     "output_type": "stream",
     "text": [
      "==========\n",
      "What???? HORRIBLE\n",
      "Medium T5 fails\n"
     ]
    },
    {
     "data": {
      "text/plain": [
       "[{'id': 9,\n",
       "  'text': 'North Dakota is a state in the United States. 672,591 people lived in North Dakota in the year 2010. The capital and seat of government is Bismarck.',\n",
       "  'meta': {},\n",
       "  'score': 0.4610634},\n",
       " {'id': 2,\n",
       "  'text': 'The Commonwealth of the Northern Mariana Islands is a group of islands in the Pacific Ocean that are a political division controlled by the United States. Its capital is Saipan.',\n",
       "  'meta': {},\n",
       "  'score': 0.42852578},\n",
       " {'id': 1,\n",
       "  'text': 'Carson City is the capital city of the American state of Nevada. At the  2010 United States Census, Carson City had a population of 55,274.',\n",
       "  'meta': {},\n",
       "  'score': 0.41662252},\n",
       " {'id': 5,\n",
       "  'text': \"The city of Washington, D.C. is not only known for its significant role in the United States' government but also as the capital city. It houses the President's residence, the White House, and serves as the hub for all three branches of the federal government.\",\n",
       "  'meta': {},\n",
       "  'score': 0.39218792},\n",
       " {'id': 10,\n",
       "  'text': 'The debate over the capital punishment in the United States often takes center stage in Washington, D.C., where policymakers and activists gather to discuss its implications on justice and human rights.',\n",
       "  'meta': {},\n",
       "  'score': 0.38712433},\n",
       " {'id': 3,\n",
       "  'text': 'Charlotte Amalie is the capital and largest city of the United States Virgin Islands. It has about 20,000 people. The city is on the island of Saint Thomas.',\n",
       "  'meta': {},\n",
       "  'score': 0.37588352},\n",
       " {'id': 4,\n",
       "  'text': 'Washington, D.C. (also known as simply Washington or D.C., and officially as the District of Columbia) is the capital of the United States. It is a federal district. ',\n",
       "  'meta': {},\n",
       "  'score': 0.37562025},\n",
       " {'id': 6,\n",
       "  'text': 'The economic capital of the United States is often considered to be New York City, due to its status as the home of the New York Stock Exchange and being a major hub for financial, cultural, and business activities.',\n",
       "  'meta': {},\n",
       "  'score': 0.37265414},\n",
       " {'id': 11,\n",
       "  'text': 'Capital cities, including Washington, D.C., and state capitals like Olympia in Washington State, highlight the diversity of the United States. Each capital, with its unique history and culture, contributes to the rich tapestry that defines the American experience, from government operations to local heritage.',\n",
       "  'meta': {},\n",
       "  'score': 0.33665192},\n",
       " {'id': 8,\n",
       "  'text': 'Capital punishment (the death penalty) has existed in the United States since before the United States was a country. As of 2017, capital punishment is legal in 30 of the 50 states.',\n",
       "  'meta': {},\n",
       "  'score': 0.3285982},\n",
       " {'id': 7,\n",
       "  'text': \"In the heart of the nation, Washington, D.C. stands out as the capital, where the U.S. Capitol Building, a symbol of the country's democracy, is located. This city is central to American politics and history, hosting numerous national landmarks.\",\n",
       "  'meta': {},\n",
       "  'score': 0.3077316}]"
      ]
     },
     "execution_count": 24,
     "metadata": {},
     "output_type": "execute_result"
    }
   ],
   "source": [
    "rerank_request = RerankRequest(query=query, passages=passages)\n",
    "results = ranker_medium_t5.rerank(rerank_request)\n",
    "print(\"=\" * 10)\n",
    "print(\"What???? HORRIBLE\")\n",
    "print(\"Medium T5 fails\")\n",
    "results"
   ]
  },
  {
   "cell_type": "code",
   "execution_count": 27,
   "metadata": {},
   "outputs": [
    {
     "name": "stdout",
     "output_type": "stream",
     "text": [
      "==========\n",
      "Hummmmm ... The NY passage ranks TOP ... Awful\n",
      "At least capital punishment is ranked last\n",
      "Capital punishment ranks #2?\n"
     ]
    },
    {
     "data": {
      "text/plain": [
       "[{'id': 6,\n",
       "  'text': 'The economic capital of the United States is often considered to be New York City, due to its status as the home of the New York Stock Exchange and being a major hub for financial, cultural, and business activities.',\n",
       "  'meta': {},\n",
       "  'score': 0.9995332},\n",
       " {'id': 4,\n",
       "  'text': 'Washington, D.C. (also known as simply Washington or D.C., and officially as the District of Columbia) is the capital of the United States. It is a federal district. ',\n",
       "  'meta': {},\n",
       "  'score': 0.9994824},\n",
       " {'id': 7,\n",
       "  'text': \"In the heart of the nation, Washington, D.C. stands out as the capital, where the U.S. Capitol Building, a symbol of the country's democracy, is located. This city is central to American politics and history, hosting numerous national landmarks.\",\n",
       "  'meta': {},\n",
       "  'score': 0.9979709},\n",
       " {'id': 11,\n",
       "  'text': 'Capital cities, including Washington, D.C., and state capitals like Olympia in Washington State, highlight the diversity of the United States. Each capital, with its unique history and culture, contributes to the rich tapestry that defines the American experience, from government operations to local heritage.',\n",
       "  'meta': {},\n",
       "  'score': 0.99086916},\n",
       " {'id': 5,\n",
       "  'text': \"The city of Washington, D.C. is not only known for its significant role in the United States' government but also as the capital city. It houses the President's residence, the White House, and serves as the hub for all three branches of the federal government.\",\n",
       "  'meta': {},\n",
       "  'score': 0.97137386},\n",
       " {'id': 8,\n",
       "  'text': 'Capital punishment (the death penalty) has existed in the United States since before the United States was a country. As of 2017, capital punishment is legal in 30 of the 50 states.',\n",
       "  'meta': {},\n",
       "  'score': 0.8135602},\n",
       " {'id': 10,\n",
       "  'text': 'The debate over the capital punishment in the United States often takes center stage in Washington, D.C., where policymakers and activists gather to discuss its implications on justice and human rights.',\n",
       "  'meta': {},\n",
       "  'score': 0.5758297},\n",
       " {'id': 3,\n",
       "  'text': 'Charlotte Amalie is the capital and largest city of the United States Virgin Islands. It has about 20,000 people. The city is on the island of Saint Thomas.',\n",
       "  'meta': {},\n",
       "  'score': 0.41701317},\n",
       " {'id': 1,\n",
       "  'text': 'Carson City is the capital city of the American state of Nevada. At the  2010 United States Census, Carson City had a population of 55,274.',\n",
       "  'meta': {},\n",
       "  'score': 0.23537056},\n",
       " {'id': 9,\n",
       "  'text': 'North Dakota is a state in the United States. 672,591 people lived in North Dakota in the year 2010. The capital and seat of government is Bismarck.',\n",
       "  'meta': {},\n",
       "  'score': 0.026795829},\n",
       " {'id': 2,\n",
       "  'text': 'The Commonwealth of the Northern Mariana Islands is a group of islands in the Pacific Ocean that are a political division controlled by the United States. Its capital is Saipan.',\n",
       "  'meta': {},\n",
       "  'score': 0.017113151}]"
      ]
     },
     "execution_count": 27,
     "metadata": {},
     "output_type": "execute_result"
    }
   ],
   "source": [
    "rerank_request = RerankRequest(query=query, passages=passages)\n",
    "results = ranker_small.rerank(rerank_request)\n",
    "print(\"=\" * 10)\n",
    "print(\"Hummmmm ... The NY passage ranks TOP ... Awful\")\n",
    "print(\"At least capital punishment is ranked last\")\n",
    "print(\"Capital punishment ranks #2?\")\n",
    "results"
   ]
  },
  {
   "cell_type": "code",
   "execution_count": 29,
   "metadata": {},
   "outputs": [
    {
     "name": "stdout",
     "output_type": "stream",
     "text": [
      "==========\n",
      "Hummmmm ... Wasn't expecting much and the results are bad.\n"
     ]
    },
    {
     "data": {
      "text/plain": [
       "[{'id': 6,\n",
       "  'text': 'The economic capital of the United States is often considered to be New York City, due to its status as the home of the New York Stock Exchange and being a major hub for financial, cultural, and business activities.',\n",
       "  'meta': {},\n",
       "  'score': 0.9698887},\n",
       " {'id': 11,\n",
       "  'text': 'Capital cities, including Washington, D.C., and state capitals like Olympia in Washington State, highlight the diversity of the United States. Each capital, with its unique history and culture, contributes to the rich tapestry that defines the American experience, from government operations to local heritage.',\n",
       "  'meta': {},\n",
       "  'score': 0.9688047},\n",
       " {'id': 1,\n",
       "  'text': 'Carson City is the capital city of the American state of Nevada. At the  2010 United States Census, Carson City had a population of 55,274.',\n",
       "  'meta': {},\n",
       "  'score': 0.96773326},\n",
       " {'id': 9,\n",
       "  'text': 'North Dakota is a state in the United States. 672,591 people lived in North Dakota in the year 2010. The capital and seat of government is Bismarck.',\n",
       "  'meta': {},\n",
       "  'score': 0.9668641},\n",
       " {'id': 7,\n",
       "  'text': \"In the heart of the nation, Washington, D.C. stands out as the capital, where the U.S. Capitol Building, a symbol of the country's democracy, is located. This city is central to American politics and history, hosting numerous national landmarks.\",\n",
       "  'meta': {},\n",
       "  'score': 0.9569577},\n",
       " {'id': 2,\n",
       "  'text': 'The Commonwealth of the Northern Mariana Islands is a group of islands in the Pacific Ocean that are a political division controlled by the United States. Its capital is Saipan.',\n",
       "  'meta': {},\n",
       "  'score': 0.9560856},\n",
       " {'id': 8,\n",
       "  'text': 'Capital punishment (the death penalty) has existed in the United States since before the United States was a country. As of 2017, capital punishment is legal in 30 of the 50 states.',\n",
       "  'meta': {},\n",
       "  'score': 0.955501},\n",
       " {'id': 10,\n",
       "  'text': 'The debate over the capital punishment in the United States often takes center stage in Washington, D.C., where policymakers and activists gather to discuss its implications on justice and human rights.',\n",
       "  'meta': {},\n",
       "  'score': 0.95281076},\n",
       " {'id': 5,\n",
       "  'text': \"The city of Washington, D.C. is not only known for its significant role in the United States' government but also as the capital city. It houses the President's residence, the White House, and serves as the hub for all three branches of the federal government.\",\n",
       "  'meta': {},\n",
       "  'score': 0.95054716},\n",
       " {'id': 3,\n",
       "  'text': 'Charlotte Amalie is the capital and largest city of the United States Virgin Islands. It has about 20,000 people. The city is on the island of Saint Thomas.',\n",
       "  'meta': {},\n",
       "  'score': 0.9447754},\n",
       " {'id': 4,\n",
       "  'text': 'Washington, D.C. (also known as simply Washington or D.C., and officially as the District of Columbia) is the capital of the United States. It is a federal district. ',\n",
       "  'meta': {},\n",
       "  'score': 0.9190115}]"
      ]
     },
     "execution_count": 29,
     "metadata": {},
     "output_type": "execute_result"
    }
   ],
   "source": [
    "rerank_request = RerankRequest(query=query, passages=passages)\n",
    "results = ranker_medium_int.rerank(rerank_request)\n",
    "print(\"=\" * 10)\n",
    "print(\"Hummmmm ... Wasn't expecting much and the results are bad.\")\n",
    "results"
   ]
  }
 ],
 "metadata": {
  "kernelspec": {
   "display_name": ".venv",
   "language": "python",
   "name": "python3"
  },
  "language_info": {
   "codemirror_mode": {
    "name": "ipython",
    "version": 3
   },
   "file_extension": ".py",
   "mimetype": "text/x-python",
   "name": "python",
   "nbconvert_exporter": "python",
   "pygments_lexer": "ipython3",
   "version": "3.12.2"
  }
 },
 "nbformat": 4,
 "nbformat_minor": 2
}
