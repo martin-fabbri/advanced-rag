{
 "cells": [
  {
   "cell_type": "markdown",
   "metadata": {},
   "source": [
    "### Flash ReRank\n",
    "\n",
    "Models are better at using relevant information that occurs at the very begging (primacy bias) or end of it's input context (recency bias), and performance degrades significantly when models have to use information located in the middle of the input context."
   ]
  },
  {
   "cell_type": "markdown",
   "metadata": {},
   "source": [
    "- Cross Encoders\n",
    "- Zero shot rerankers"
   ]
  },
  {
   "cell_type": "code",
   "execution_count": 2,
   "metadata": {},
   "outputs": [
    {
     "name": "stdout",
     "output_type": "stream",
     "text": [
      "Note: you may need to restart the kernel to use updated packages.\n"
     ]
    }
   ],
   "source": [
    "%pip install -qqU flashrank"
   ]
  },
  {
   "cell_type": "code",
   "execution_count": 3,
   "metadata": {},
   "outputs": [
    {
     "name": "stdout",
     "output_type": "stream",
     "text": [
      "Downloading ms-marco-TinyBERT-L-2-v2...\n"
     ]
    },
    {
     "name": "stderr",
     "output_type": "stream",
     "text": [
      "ms-marco-TinyBERT-L-2-v2.zip: 100%|██████████| 3.26M/3.26M [00:00<00:00, 13.5MiB/s]\n"
     ]
    }
   ],
   "source": [
    "from flashrank import Ranker\n",
    "\n",
    "ranker = Ranker()"
   ]
  },
  {
   "cell_type": "markdown",
   "metadata": {},
   "source": [
    "#### Small Ranker (~34MB), slightly slower & best performance (ranking precision)"
   ]
  },
  {
   "cell_type": "code",
   "execution_count": 4,
   "metadata": {},
   "outputs": [
    {
     "name": "stdout",
     "output_type": "stream",
     "text": [
      "Cache directory ../.cache not found. Creating it..\n",
      "Downloading ms-marco-MiniLM-L-12-v2...\n"
     ]
    },
    {
     "name": "stderr",
     "output_type": "stream",
     "text": [
      "ms-marco-MiniLM-L-12-v2.zip: 100%|██████████| 21.6M/21.6M [00:00<00:00, 27.1MiB/s]\n"
     ]
    }
   ],
   "source": [
    "ranker_small = Ranker(model_name=\"ms-marco-MiniLM-L-12-v2\", cache_dir=\"../.cache/\")"
   ]
  },
  {
   "cell_type": "markdown",
   "metadata": {},
   "source": [
    "#### Medium (~110MB), slower model with best zeroshot performance (ranking precision) \n",
    "on out of domain data."
   ]
  },
  {
   "cell_type": "code",
   "execution_count": 5,
   "metadata": {},
   "outputs": [
    {
     "name": "stdout",
     "output_type": "stream",
     "text": [
      "Downloading rank-T5-flan...\n"
     ]
    },
    {
     "name": "stderr",
     "output_type": "stream",
     "text": [
      "rank-T5-flan.zip: 100%|██████████| 73.7M/73.7M [00:01<00:00, 41.2MiB/s]\n"
     ]
    }
   ],
   "source": [
    "ranker_medium_t5 = Ranker(model_name=\"rank-T5-flan\", cache_dir=\"../.cache/\")"
   ]
  },
  {
   "cell_type": "markdown",
   "metadata": {},
   "source": [
    "# Medium (~150MB), slower model with competitive performance (ranking precision) \n",
    "for 100+ languages  (don't use for english)"
   ]
  },
  {
   "cell_type": "code",
   "execution_count": 6,
   "metadata": {},
   "outputs": [
    {
     "name": "stdout",
     "output_type": "stream",
     "text": [
      "Downloading ms-marco-MultiBERT-L-12...\n"
     ]
    },
    {
     "name": "stderr",
     "output_type": "stream",
     "text": [
      "ms-marco-MultiBERT-L-12.zip: 100%|██████████| 98.7M/98.7M [00:03<00:00, 30.1MiB/s]\n"
     ]
    }
   ],
   "source": [
    "ranker_medium_int = Ranker(model_name=\"ms-marco-MultiBERT-L-12\", cache_dir=\"../.cache/\")"
   ]
  },
  {
   "cell_type": "markdown",
   "metadata": {},
   "source": [
    "- Metadata is optimal. \n",
    "- IDs come from retrieval DB or simple numeric indices"
   ]
  },
  {
   "cell_type": "code",
   "execution_count": 7,
   "metadata": {},
   "outputs": [],
   "source": [
    "query = \"How to speedup LLMs?\""
   ]
  },
  {
   "cell_type": "code",
   "execution_count": 8,
   "metadata": {},
   "outputs": [],
   "source": [
    "passages = [\n",
    "    {\n",
    "        \"id\": 1,\n",
    "        \"text\": \"Introduce *lookahead decoding*: - a parallel decoding algo to accelerate LLM inference - w/o the need for a draft model or a data store - linearly decreases # decoding steps relative to log(FLOPs) used per decoding step.\",\n",
    "        \"meta\": {\"additional\": \"info1\"},\n",
    "    },\n",
    "    {\n",
    "        \"id\": 2,\n",
    "        \"text\": \"LLM inference efficiency will be one of the most crucial topics for both industry and academia, simply because the more efficient you are, the more $$$ you will save. vllm project is a must-read for this direction, and now they have just released the paper\",\n",
    "        \"meta\": {\"additional\": \"info2\"},\n",
    "    },\n",
    "    {\n",
    "        \"id\": 3,\n",
    "        \"text\": \"There are many ways to increase LLM inference throughput (tokens/second) and decrease memory footprint, sometimes at the same time. Here are a few methods I’ve found effective when working with Llama 2. These methods are all well-integrated with Hugging Face. This list is far from exhaustive; some of these techniques can be used in combination with each other and there are plenty of others to try. - Bettertransformer (Optimum Library): Simply call `model.to_bettertransformer()` on your Hugging Face model for a modest improvement in tokens per second. - Fp4 Mixed-Precision (Bitsandbytes): Requires minimal configuration and dramatically reduces the model's memory footprint. - AutoGPTQ: Time-consuming but leads to a much smaller model and faster inference. The quantization is a one-time cost that pays off in the long run.\",\n",
    "        \"meta\": {\"additional\": \"info3\"},\n",
    "    },\n",
    "    {\n",
    "        \"id\": 4,\n",
    "        \"text\": \"Ever want to make your LLM inference go brrrrr but got stuck at implementing speculative decoding and finding the suitable draft model? No more pain! Thrilled to unveil Medusa, a simple framework that removes the annoying draft model while getting 2x speedup.\",\n",
    "        \"meta\": {\"additional\": \"info4\"},\n",
    "    },\n",
    "    {\n",
    "        \"id\": 5,\n",
    "        \"text\": \"vLLM is a fast and easy-to-use library for LLM inference and serving. vLLM is fast with: State-of-the-art serving throughput Efficient management of attention key and value memory with PagedAttention Continuous batching of incoming requests Optimized CUDA kernels\",\n",
    "        \"meta\": {\"additional\": \"info5\"},\n",
    "    },\n",
    "]"
   ]
  },
  {
   "cell_type": "code",
   "execution_count": 9,
   "metadata": {},
   "outputs": [
    {
     "data": {
      "text/plain": [
       "[{'id': 4,\n",
       "  'text': 'Ever want to make your LLM inference go brrrrr but got stuck at implementing speculative decoding and finding the suitable draft model? No more pain! Thrilled to unveil Medusa, a simple framework that removes the annoying draft model while getting 2x speedup.',\n",
       "  'meta': {'additional': 'info4'},\n",
       "  'score': 0.9439003},\n",
       " {'id': 3,\n",
       "  'text': \"There are many ways to increase LLM inference throughput (tokens/second) and decrease memory footprint, sometimes at the same time. Here are a few methods I’ve found effective when working with Llama 2. These methods are all well-integrated with Hugging Face. This list is far from exhaustive; some of these techniques can be used in combination with each other and there are plenty of others to try. - Bettertransformer (Optimum Library): Simply call `model.to_bettertransformer()` on your Hugging Face model for a modest improvement in tokens per second. - Fp4 Mixed-Precision (Bitsandbytes): Requires minimal configuration and dramatically reduces the model's memory footprint. - AutoGPTQ: Time-consuming but leads to a much smaller model and faster inference. The quantization is a one-time cost that pays off in the long run.\",\n",
       "  'meta': {'additional': 'info3'},\n",
       "  'score': 0.8475677},\n",
       " {'id': 1,\n",
       "  'text': 'Introduce *lookahead decoding*: - a parallel decoding algo to accelerate LLM inference - w/o the need for a draft model or a data store - linearly decreases # decoding steps relative to log(FLOPs) used per decoding step.',\n",
       "  'meta': {'additional': 'info1'},\n",
       "  'score': 0.8068305},\n",
       " {'id': 5,\n",
       "  'text': 'vLLM is a fast and easy-to-use library for LLM inference and serving. vLLM is fast with: State-of-the-art serving throughput Efficient management of attention key and value memory with PagedAttention Continuous batching of incoming requests Optimized CUDA kernels',\n",
       "  'meta': {'additional': 'info5'},\n",
       "  'score': 0.5689538},\n",
       " {'id': 2,\n",
       "  'text': 'LLM inference efficiency will be one of the most crucial topics for both industry and academia, simply because the more efficient you are, the more $$$ you will save. vllm project is a must-read for this direction, and now they have just released the paper',\n",
       "  'meta': {'additional': 'info2'},\n",
       "  'score': 0.0044068173}]"
      ]
     },
     "execution_count": 9,
     "metadata": {},
     "output_type": "execute_result"
    }
   ],
   "source": [
    "from flashrank import RerankRequest\n",
    "\n",
    "rerank_request = RerankRequest(query=query, passages=passages)\n",
    "results = ranker_small.rerank(rerank_request)\n",
    "results"
   ]
  },
  {
   "cell_type": "markdown",
   "metadata": {},
   "source": [
    "#### Sample #2 - What is the US Capital?"
   ]
  },
  {
   "cell_type": "code",
   "execution_count": 10,
   "metadata": {},
   "outputs": [],
   "source": [
    "query = \"What is the capital of the United States?\""
   ]
  },
  {
   "cell_type": "code",
   "execution_count": 15,
   "metadata": {},
   "outputs": [],
   "source": [
    "passages = [\n",
    "    {\n",
    "        \"id\": 1,\n",
    "        \"text\": \"Carson City is the capital city of the American state of Nevada. At the  2010 United States Census, Carson City had a population of 55,274.\",\n",
    "        \"meta\": {},\n",
    "    },\n",
    "    {\n",
    "        \"id\": 2,\n",
    "        \"text\": \"The Commonwealth of the Northern Mariana Islands is a group of islands in the Pacific Ocean that are a political division controlled by the United States. Its capital is Saipan.\",\n",
    "        \"meta\": {},\n",
    "    },\n",
    "    {\n",
    "        \"id\": 3,\n",
    "        \"text\": \"Charlotte Amalie is the capital and largest city of the United States Virgin Islands. It has about 20,000 people. The city is on the island of Saint Thomas.\",\n",
    "        \"meta\": {},\n",
    "    },\n",
    "    {\n",
    "        \"id\": 4,\n",
    "        \"text\": \"Washington, D.C. (also known as simply Washington or D.C., and officially as the District of Columbia) is the capital of the United States. It is a federal district. \",\n",
    "        \"meta\": {},\n",
    "    },\n",
    "    {\n",
    "        \"id\": 5,\n",
    "        \"text\": \"The city of Washington, D.C. is not only known for its significant role in the United States' government but also as the capital city. It houses the President's residence, the White House, and serves as the hub for all three branches of the federal government.\",\n",
    "        \"meta\": {},\n",
    "    },\n",
    "    {\n",
    "        \"id\": 6,\n",
    "        \"text\": \"The economic capital of the United States is often considered to be New York City, due to its status as the home of the New York Stock Exchange and being a major hub for financial, cultural, and business activities.\",\n",
    "        \"meta\": {},\n",
    "    },\n",
    "    {\n",
    "        \"id\": 7,\n",
    "        \"text\": \"In the heart of the nation, Washington, D.C. stands out as the capital, where the U.S. Capitol Building, a symbol of the country's democracy, is located. This city is central to American politics and history, hosting numerous national landmarks.\",\n",
    "        \"meta\": {},\n",
    "    },\n",
    "    {\n",
    "        \"id\": 8,\n",
    "        \"text\": \"Capital punishment (the death penalty) has existed in the United States since before the United States was a country. As of 2017, capital punishment is legal in 30 of the 50 states.\",\n",
    "        \"meta\": {},\n",
    "    },\n",
    "    {\n",
    "        \"id\": 9,\n",
    "        \"text\": \"North Dakota is a state in the United States. 672,591 people lived in North Dakota in the year 2010. The capital and seat of government is Bismarck.\",\n",
    "        \"meta\": {},\n",
    "    },\n",
    "    {\n",
    "        \"id\": 10,\n",
    "        \"text\": \"The debate over the capital punishment in the United States often takes center stage in Washington, D.C., where policymakers and activists gather to discuss its implications on justice and human rights.\",\n",
    "        \"meta\": {},\n",
    "    },\n",
    "    {\n",
    "        \"id\": 11,\n",
    "        \"text\": \"Capital cities, including Washington, D.C., and state capitals like Olympia in Washington State, highlight the diversity of the United States. Each capital, with its unique history and culture, contributes to the rich tapestry that defines the American experience, from government operations to local heritage.\",\n",
    "        \"meta\": {},\n",
    "    },\n",
    "    {\n",
    "        \"id\": 12,\n",
    "        \"text\": \"In a fictional twist, Washington, D.C., has earned the notorious title of U.S. capital of crime due to an alarming surge in various fictional criminal activities. This designation, emerging from a web of exaggerated tales and urban legends, paints the city as the epicenter of an unprecedented crime wave. From sophisticated heists and digital crimes to a rise in mysterious disappearances, the narrative transforms the city into a landscape where safety is an illusion and lawlessness reigns supreme. In this alternate version of reality, Washington, D.C., stands not as a symbol of national pride, but as the heart of crime in the United States, a stark contrast to its historical and cultural significance.\",\n",
    "        \"meta\": {},\n",
    "    },\n",
    "    {\n",
    "        \"id\": 13,\n",
    "        \"text\": \"Amid the bustling streets and historic monuments of the East Coast's pride, the United States Café stands as a beacon of culinary excellence in the Capital District. This establishment, renowned for its fusion of flavors from across the nation, epitomizes the melting pot of cultures that define the American essence. Just a short walk from prominent landmarks and green spaces, the United States Café serves as a culinary capital in its own right, attracting a diverse clientele eager to partake in its unique dining experience. Celebrating the spirit of unity and innovation, it mirrors the vibrant, ever-evolving landscape of the nation, making it a must-visit for anyone exploring the heart of the city.\",\n",
    "        \"meta\": {},\n",
    "    },\n",
    "    {\n",
    "        \"id\": 14,\n",
    "        \"text\": \"In an unparalleled fusion of history and modernity, the Capital Exhibition Center, located in the heart of Washington, D.C., stands as a monumental showcase of the United States' rich heritage and technological prowess. This state-of-the-art facility, situated mere blocks from the iconic National Mall, offers an immersive journey through America's pivotal moments, from the Founding Fathers' revolutionary vision to today's innovations driving the nation forward. With its vast collection of artifacts and cutting-edge interactive displays, the center illuminates the essence of the U.S. capital, celebrating its unique position at the crossroads of past achievements and future aspirations. Visitors to the Capital Exhibition Center are invited to explore a vivid tapestry of American life, encapsulated within the bustling dynamism of Washington, D.C.\",\n",
    "        \"meta\": {},\n",
    "    },\n",
    "    {\n",
    "        \"id\": 15,\n",
    "        \"text\": \"Discover the Capital Gateway Park, a lush oasis at the doorstep of Washington, D.C., where the natural beauty of the United States unfolds in a tapestry of greenery and waterways. This park, while not within the city's immediate boundaries, serves as a serene counterpoint to the bustling capital, offering visitors a unique vantage point from which to reflect on the nation's history and future. With paths that wind past historical markers and art installations celebrating American innovation and spirit, the park stands as a testament to the country's resilience and diversity. The Gateway Park is more than just a greenspace; it is a living museum, a bridge between the urban expanse of the capital and the vast, wild heart of the United States.\",\n",
    "        \"meta\": {},\n",
    "    },\n",
    "    {\n",
    "        \"id\": 16,\n",
    "        \"text\": \"The capital gains tax is a tax on the profit realized from the sale of a non-inventory asset in the United States. This refers to assets like stocks, bonds, and real estate.\",\n",
    "        \"meta\": {},\n",
    "    },\n",
    "    {\n",
    "        \"id\": 17,\n",
    "        \"text\": \"Capital One is a bank holding company headquartered in Virginia. It specializes in credit cards, auto loans, banking, and savings products in the United States.\",\n",
    "        \"meta\": {},\n",
    "    },\n",
    "    {\n",
    "        \"id\": 18,\n",
    "        \"text\": \"Washington, D.C. has long struggled with high rates of violent crime, particularly in certain neighborhoods. Despite being the nation's capital, the city has grappled with issues like gang activity and drug trafficking.\",\n",
    "        \"meta\": {},\n",
    "    },\n",
    "]"
   ]
  },
  {
   "cell_type": "code",
   "execution_count": 16,
   "metadata": {},
   "outputs": [
    {
     "name": "stdout",
     "output_type": "stream",
     "text": [
      "==========\n",
      "What???? HORRIBLE\n",
      "Medium T5 fails\n"
     ]
    },
    {
     "data": {
      "text/plain": [
       "[{'id': 2,\n",
       "  'text': 'The Commonwealth of the Northern Mariana Islands is a group of islands in the Pacific Ocean that are a political division controlled by the United States. Its capital is Saipan.',\n",
       "  'meta': {},\n",
       "  'score': 0.59897494},\n",
       " {'id': 14,\n",
       "  'text': \"In an unparalleled fusion of history and modernity, the Capital Exhibition Center, located in the heart of Washington, D.C., stands as a monumental showcase of the United States' rich heritage and technological prowess. This state-of-the-art facility, situated mere blocks from the iconic National Mall, offers an immersive journey through America's pivotal moments, from the Founding Fathers' revolutionary vision to today's innovations driving the nation forward. With its vast collection of artifacts and cutting-edge interactive displays, the center illuminates the essence of the U.S. capital, celebrating its unique position at the crossroads of past achievements and future aspirations. Visitors to the Capital Exhibition Center are invited to explore a vivid tapestry of American life, encapsulated within the bustling dynamism of Washington, D.C.\",\n",
       "  'meta': {},\n",
       "  'score': 0.5625735},\n",
       " {'id': 18,\n",
       "  'text': \"Washington, D.C. has long struggled with high rates of violent crime, particularly in certain neighborhoods. Despite being the nation's capital, the city has grappled with issues like gang activity and drug trafficking.\",\n",
       "  'meta': {},\n",
       "  'score': 0.5223298},\n",
       " {'id': 9,\n",
       "  'text': 'North Dakota is a state in the United States. 672,591 people lived in North Dakota in the year 2010. The capital and seat of government is Bismarck.',\n",
       "  'meta': {},\n",
       "  'score': 0.46921274},\n",
       " {'id': 1,\n",
       "  'text': 'Carson City is the capital city of the American state of Nevada. At the  2010 United States Census, Carson City had a population of 55,274.',\n",
       "  'meta': {},\n",
       "  'score': 0.4522896},\n",
       " {'id': 3,\n",
       "  'text': 'Charlotte Amalie is the capital and largest city of the United States Virgin Islands. It has about 20,000 people. The city is on the island of Saint Thomas.',\n",
       "  'meta': {},\n",
       "  'score': 0.44258368},\n",
       " {'id': 17,\n",
       "  'text': 'Capital One is a bank holding company headquartered in Virginia. It specializes in credit cards, auto loans, banking, and savings products in the United States.',\n",
       "  'meta': {},\n",
       "  'score': 0.43547198},\n",
       " {'id': 13,\n",
       "  'text': \"Amid the bustling streets and historic monuments of the East Coast's pride, the United States Café stands as a beacon of culinary excellence in the Capital District. This establishment, renowned for its fusion of flavors from across the nation, epitomizes the melting pot of cultures that define the American essence. Just a short walk from prominent landmarks and green spaces, the United States Café serves as a culinary capital in its own right, attracting a diverse clientele eager to partake in its unique dining experience. Celebrating the spirit of unity and innovation, it mirrors the vibrant, ever-evolving landscape of the nation, making it a must-visit for anyone exploring the heart of the city.\",\n",
       "  'meta': {},\n",
       "  'score': 0.43117172},\n",
       " {'id': 12,\n",
       "  'text': 'In a fictional twist, Washington, D.C., has earned the notorious title of U.S. capital of crime due to an alarming surge in various fictional criminal activities. This designation, emerging from a web of exaggerated tales and urban legends, paints the city as the epicenter of an unprecedented crime wave. From sophisticated heists and digital crimes to a rise in mysterious disappearances, the narrative transforms the city into a landscape where safety is an illusion and lawlessness reigns supreme. In this alternate version of reality, Washington, D.C., stands not as a symbol of national pride, but as the heart of crime in the United States, a stark contrast to its historical and cultural significance.',\n",
       "  'meta': {},\n",
       "  'score': 0.41931593},\n",
       " {'id': 15,\n",
       "  'text': \"Discover the Capital Gateway Park, a lush oasis at the doorstep of Washington, D.C., where the natural beauty of the United States unfolds in a tapestry of greenery and waterways. This park, while not within the city's immediate boundaries, serves as a serene counterpoint to the bustling capital, offering visitors a unique vantage point from which to reflect on the nation's history and future. With paths that wind past historical markers and art installations celebrating American innovation and spirit, the park stands as a testament to the country's resilience and diversity. The Gateway Park is more than just a greenspace; it is a living museum, a bridge between the urban expanse of the capital and the vast, wild heart of the United States.\",\n",
       "  'meta': {},\n",
       "  'score': 0.41750848},\n",
       " {'id': 6,\n",
       "  'text': 'The economic capital of the United States is often considered to be New York City, due to its status as the home of the New York Stock Exchange and being a major hub for financial, cultural, and business activities.',\n",
       "  'meta': {},\n",
       "  'score': 0.41268158},\n",
       " {'id': 10,\n",
       "  'text': 'The debate over the capital punishment in the United States often takes center stage in Washington, D.C., where policymakers and activists gather to discuss its implications on justice and human rights.',\n",
       "  'meta': {},\n",
       "  'score': 0.40927532},\n",
       " {'id': 8,\n",
       "  'text': 'Capital punishment (the death penalty) has existed in the United States since before the United States was a country. As of 2017, capital punishment is legal in 30 of the 50 states.',\n",
       "  'meta': {},\n",
       "  'score': 0.40445566},\n",
       " {'id': 5,\n",
       "  'text': \"The city of Washington, D.C. is not only known for its significant role in the United States' government but also as the capital city. It houses the President's residence, the White House, and serves as the hub for all three branches of the federal government.\",\n",
       "  'meta': {},\n",
       "  'score': 0.40214193},\n",
       " {'id': 4,\n",
       "  'text': 'Washington, D.C. (also known as simply Washington or D.C., and officially as the District of Columbia) is the capital of the United States. It is a federal district. ',\n",
       "  'meta': {},\n",
       "  'score': 0.40066653},\n",
       " {'id': 11,\n",
       "  'text': 'Capital cities, including Washington, D.C., and state capitals like Olympia in Washington State, highlight the diversity of the United States. Each capital, with its unique history and culture, contributes to the rich tapestry that defines the American experience, from government operations to local heritage.',\n",
       "  'meta': {},\n",
       "  'score': 0.35514906},\n",
       " {'id': 7,\n",
       "  'text': \"In the heart of the nation, Washington, D.C. stands out as the capital, where the U.S. Capitol Building, a symbol of the country's democracy, is located. This city is central to American politics and history, hosting numerous national landmarks.\",\n",
       "  'meta': {},\n",
       "  'score': 0.35019585},\n",
       " {'id': 16,\n",
       "  'text': 'The capital gains tax is a tax on the profit realized from the sale of a non-inventory asset in the United States. This refers to assets like stocks, bonds, and real estate.',\n",
       "  'meta': {},\n",
       "  'score': 0.31856847}]"
      ]
     },
     "execution_count": 16,
     "metadata": {},
     "output_type": "execute_result"
    }
   ],
   "source": [
    "rerank_request = RerankRequest(query=query, passages=passages)\n",
    "results = ranker_medium_t5.rerank(rerank_request)\n",
    "print(\"=\" * 10)\n",
    "print(\"What???? HORRIBLE\")\n",
    "print(\"Medium T5 fails\")\n",
    "results"
   ]
  },
  {
   "cell_type": "code",
   "execution_count": 17,
   "metadata": {},
   "outputs": [
    {
     "name": "stdout",
     "output_type": "stream",
     "text": [
      "==========\n",
      "Hummmmm ... The NY passage ranks TOP ... Awful\n",
      "At least capital punishment is ranked last\n",
      "Capital punishment ranks #2?\n"
     ]
    },
    {
     "data": {
      "text/plain": [
       "[{'id': 4,\n",
       "  'text': 'Washington, D.C. (also known as simply Washington or D.C., and officially as the District of Columbia) is the capital of the United States. It is a federal district. ',\n",
       "  'meta': {},\n",
       "  'score': 0.99955183},\n",
       " {'id': 6,\n",
       "  'text': 'The economic capital of the United States is often considered to be New York City, due to its status as the home of the New York Stock Exchange and being a major hub for financial, cultural, and business activities.',\n",
       "  'meta': {},\n",
       "  'score': 0.99947685},\n",
       " {'id': 7,\n",
       "  'text': \"In the heart of the nation, Washington, D.C. stands out as the capital, where the U.S. Capitol Building, a symbol of the country's democracy, is located. This city is central to American politics and history, hosting numerous national landmarks.\",\n",
       "  'meta': {},\n",
       "  'score': 0.9970722},\n",
       " {'id': 11,\n",
       "  'text': 'Capital cities, including Washington, D.C., and state capitals like Olympia in Washington State, highlight the diversity of the United States. Each capital, with its unique history and culture, contributes to the rich tapestry that defines the American experience, from government operations to local heritage.',\n",
       "  'meta': {},\n",
       "  'score': 0.9938611},\n",
       " {'id': 14,\n",
       "  'text': \"In an unparalleled fusion of history and modernity, the Capital Exhibition Center, located in the heart of Washington, D.C., stands as a monumental showcase of the United States' rich heritage and technological prowess. This state-of-the-art facility, situated mere blocks from the iconic National Mall, offers an immersive journey through America's pivotal moments, from the Founding Fathers' revolutionary vision to today's innovations driving the nation forward. With its vast collection of artifacts and cutting-edge interactive displays, the center illuminates the essence of the U.S. capital, celebrating its unique position at the crossroads of past achievements and future aspirations. Visitors to the Capital Exhibition Center are invited to explore a vivid tapestry of American life, encapsulated within the bustling dynamism of Washington, D.C.\",\n",
       "  'meta': {},\n",
       "  'score': 0.96833104},\n",
       " {'id': 5,\n",
       "  'text': \"The city of Washington, D.C. is not only known for its significant role in the United States' government but also as the capital city. It houses the President's residence, the White House, and serves as the hub for all three branches of the federal government.\",\n",
       "  'meta': {},\n",
       "  'score': 0.96482784},\n",
       " {'id': 12,\n",
       "  'text': 'In a fictional twist, Washington, D.C., has earned the notorious title of U.S. capital of crime due to an alarming surge in various fictional criminal activities. This designation, emerging from a web of exaggerated tales and urban legends, paints the city as the epicenter of an unprecedented crime wave. From sophisticated heists and digital crimes to a rise in mysterious disappearances, the narrative transforms the city into a landscape where safety is an illusion and lawlessness reigns supreme. In this alternate version of reality, Washington, D.C., stands not as a symbol of national pride, but as the heart of crime in the United States, a stark contrast to its historical and cultural significance.',\n",
       "  'meta': {},\n",
       "  'score': 0.89656335},\n",
       " {'id': 8,\n",
       "  'text': 'Capital punishment (the death penalty) has existed in the United States since before the United States was a country. As of 2017, capital punishment is legal in 30 of the 50 states.',\n",
       "  'meta': {},\n",
       "  'score': 0.84182817},\n",
       " {'id': 15,\n",
       "  'text': \"Discover the Capital Gateway Park, a lush oasis at the doorstep of Washington, D.C., where the natural beauty of the United States unfolds in a tapestry of greenery and waterways. This park, while not within the city's immediate boundaries, serves as a serene counterpoint to the bustling capital, offering visitors a unique vantage point from which to reflect on the nation's history and future. With paths that wind past historical markers and art installations celebrating American innovation and spirit, the park stands as a testament to the country's resilience and diversity. The Gateway Park is more than just a greenspace; it is a living museum, a bridge between the urban expanse of the capital and the vast, wild heart of the United States.\",\n",
       "  'meta': {},\n",
       "  'score': 0.7817303},\n",
       " {'id': 10,\n",
       "  'text': 'The debate over the capital punishment in the United States often takes center stage in Washington, D.C., where policymakers and activists gather to discuss its implications on justice and human rights.',\n",
       "  'meta': {},\n",
       "  'score': 0.59714484},\n",
       " {'id': 13,\n",
       "  'text': \"Amid the bustling streets and historic monuments of the East Coast's pride, the United States Café stands as a beacon of culinary excellence in the Capital District. This establishment, renowned for its fusion of flavors from across the nation, epitomizes the melting pot of cultures that define the American essence. Just a short walk from prominent landmarks and green spaces, the United States Café serves as a culinary capital in its own right, attracting a diverse clientele eager to partake in its unique dining experience. Celebrating the spirit of unity and innovation, it mirrors the vibrant, ever-evolving landscape of the nation, making it a must-visit for anyone exploring the heart of the city.\",\n",
       "  'meta': {},\n",
       "  'score': 0.59094065},\n",
       " {'id': 3,\n",
       "  'text': 'Charlotte Amalie is the capital and largest city of the United States Virgin Islands. It has about 20,000 people. The city is on the island of Saint Thomas.',\n",
       "  'meta': {},\n",
       "  'score': 0.38903826},\n",
       " {'id': 1,\n",
       "  'text': 'Carson City is the capital city of the American state of Nevada. At the  2010 United States Census, Carson City had a population of 55,274.',\n",
       "  'meta': {},\n",
       "  'score': 0.28492892},\n",
       " {'id': 17,\n",
       "  'text': 'Capital One is a bank holding company headquartered in Virginia. It specializes in credit cards, auto loans, banking, and savings products in the United States.',\n",
       "  'meta': {},\n",
       "  'score': 0.2405977},\n",
       " {'id': 16,\n",
       "  'text': 'The capital gains tax is a tax on the profit realized from the sale of a non-inventory asset in the United States. This refers to assets like stocks, bonds, and real estate.',\n",
       "  'meta': {},\n",
       "  'score': 0.23754965},\n",
       " {'id': 18,\n",
       "  'text': \"Washington, D.C. has long struggled with high rates of violent crime, particularly in certain neighborhoods. Despite being the nation's capital, the city has grappled with issues like gang activity and drug trafficking.\",\n",
       "  'meta': {},\n",
       "  'score': 0.133024},\n",
       " {'id': 9,\n",
       "  'text': 'North Dakota is a state in the United States. 672,591 people lived in North Dakota in the year 2010. The capital and seat of government is Bismarck.',\n",
       "  'meta': {},\n",
       "  'score': 0.032166373},\n",
       " {'id': 2,\n",
       "  'text': 'The Commonwealth of the Northern Mariana Islands is a group of islands in the Pacific Ocean that are a political division controlled by the United States. Its capital is Saipan.',\n",
       "  'meta': {},\n",
       "  'score': 0.022159494}]"
      ]
     },
     "execution_count": 17,
     "metadata": {},
     "output_type": "execute_result"
    }
   ],
   "source": [
    "rerank_request = RerankRequest(query=query, passages=passages)\n",
    "results = ranker_small.rerank(rerank_request)\n",
    "print(\"=\" * 10)\n",
    "print(\"Hummmmm ... The NY passage ranks TOP ... Awful\")\n",
    "print(\"At least capital punishment is ranked last\")\n",
    "print(\"Capital punishment ranks #2?\")\n",
    "results"
   ]
  },
  {
   "cell_type": "code",
   "execution_count": 14,
   "metadata": {},
   "outputs": [
    {
     "name": "stdout",
     "output_type": "stream",
     "text": [
      "==========\n",
      "Hummmmm ... Wasn't expecting much and the results are bad.\n"
     ]
    },
    {
     "data": {
      "text/plain": [
       "[{'id': 16,\n",
       "  'text': 'The capital gains tax is a tax on the profit realized from the sale of a non-inventory asset in the United States. This refers to assets like stocks, bonds, and real estate.',\n",
       "  'meta': {},\n",
       "  'score': 0.970625},\n",
       " {'id': 6,\n",
       "  'text': 'The economic capital of the United States is often considered to be New York City, due to its status as the home of the New York Stock Exchange and being a major hub for financial, cultural, and business activities.',\n",
       "  'meta': {},\n",
       "  'score': 0.96838903},\n",
       " {'id': 9,\n",
       "  'text': 'North Dakota is a state in the United States. 672,591 people lived in North Dakota in the year 2010. The capital and seat of government is Bismarck.',\n",
       "  'meta': {},\n",
       "  'score': 0.9654177},\n",
       " {'id': 1,\n",
       "  'text': 'Carson City is the capital city of the American state of Nevada. At the  2010 United States Census, Carson City had a population of 55,274.',\n",
       "  'meta': {},\n",
       "  'score': 0.963504},\n",
       " {'id': 11,\n",
       "  'text': 'Capital cities, including Washington, D.C., and state capitals like Olympia in Washington State, highlight the diversity of the United States. Each capital, with its unique history and culture, contributes to the rich tapestry that defines the American experience, from government operations to local heritage.',\n",
       "  'meta': {},\n",
       "  'score': 0.96333647},\n",
       " {'id': 17,\n",
       "  'text': 'Capital One is a bank holding company headquartered in Virginia. It specializes in credit cards, auto loans, banking, and savings products in the United States.',\n",
       "  'meta': {},\n",
       "  'score': 0.96048665},\n",
       " {'id': 8,\n",
       "  'text': 'Capital punishment (the death penalty) has existed in the United States since before the United States was a country. As of 2017, capital punishment is legal in 30 of the 50 states.',\n",
       "  'meta': {},\n",
       "  'score': 0.9599159},\n",
       " {'id': 2,\n",
       "  'text': 'The Commonwealth of the Northern Mariana Islands is a group of islands in the Pacific Ocean that are a political division controlled by the United States. Its capital is Saipan.',\n",
       "  'meta': {},\n",
       "  'score': 0.9594575},\n",
       " {'id': 13,\n",
       "  'text': \"Amid the bustling streets and historic monuments of the East Coast's pride, the United States Café stands as a beacon of culinary excellence in the Capital District. This establishment, renowned for its fusion of flavors from across the nation, epitomizes the melting pot of cultures that define the American essence. Just a short walk from prominent landmarks and green spaces, the United States Café serves as a culinary capital in its own right, attracting a diverse clientele eager to partake in its unique dining experience. Celebrating the spirit of unity and innovation, it mirrors the vibrant, ever-evolving landscape of the nation, making it a must-visit for anyone exploring the heart of the city.\",\n",
       "  'meta': {},\n",
       "  'score': 0.95669293},\n",
       " {'id': 5,\n",
       "  'text': \"The city of Washington, D.C. is not only known for its significant role in the United States' government but also as the capital city. It houses the President's residence, the White House, and serves as the hub for all three branches of the federal government.\",\n",
       "  'meta': {},\n",
       "  'score': 0.9529016},\n",
       " {'id': 14,\n",
       "  'text': \"In an unparalleled fusion of history and modernity, the Capital Exhibition Center, located in the heart of Washington, D.C., stands as a monumental showcase of the United States' rich heritage and technological prowess. This state-of-the-art facility, situated mere blocks from the iconic National Mall, offers an immersive journey through America's pivotal moments, from the Founding Fathers' revolutionary vision to today's innovations driving the nation forward. With its vast collection of artifacts and cutting-edge interactive displays, the center illuminates the essence of the U.S. capital, celebrating its unique position at the crossroads of past achievements and future aspirations. Visitors to the Capital Exhibition Center are invited to explore a vivid tapestry of American life, encapsulated within the bustling dynamism of Washington, D.C.\",\n",
       "  'meta': {},\n",
       "  'score': 0.95254713},\n",
       " {'id': 3,\n",
       "  'text': 'Charlotte Amalie is the capital and largest city of the United States Virgin Islands. It has about 20,000 people. The city is on the island of Saint Thomas.',\n",
       "  'meta': {},\n",
       "  'score': 0.95233405},\n",
       " {'id': 15,\n",
       "  'text': \"Discover the Capital Gateway Park, a lush oasis at the doorstep of Washington, D.C., where the natural beauty of the United States unfolds in a tapestry of greenery and waterways. This park, while not within the city's immediate boundaries, serves as a serene counterpoint to the bustling capital, offering visitors a unique vantage point from which to reflect on the nation's history and future. With paths that wind past historical markers and art installations celebrating American innovation and spirit, the park stands as a testament to the country's resilience and diversity. The Gateway Park is more than just a greenspace; it is a living museum, a bridge between the urban expanse of the capital and the vast, wild heart of the United States.\",\n",
       "  'meta': {},\n",
       "  'score': 0.95013005},\n",
       " {'id': 12,\n",
       "  'text': 'In a fictional twist, Washington, D.C., has earned the notorious title of U.S. capital of crime due to an alarming surge in various fictional criminal activities. This designation, emerging from a web of exaggerated tales and urban legends, paints the city as the epicenter of an unprecedented crime wave. From sophisticated heists and digital crimes to a rise in mysterious disappearances, the narrative transforms the city into a landscape where safety is an illusion and lawlessness reigns supreme. In this alternate version of reality, Washington, D.C., stands not as a symbol of national pride, but as the heart of crime in the United States, a stark contrast to its historical and cultural significance.',\n",
       "  'meta': {},\n",
       "  'score': 0.9498182},\n",
       " {'id': 10,\n",
       "  'text': 'The debate over the capital punishment in the United States often takes center stage in Washington, D.C., where policymakers and activists gather to discuss its implications on justice and human rights.',\n",
       "  'meta': {},\n",
       "  'score': 0.94586694},\n",
       " {'id': 7,\n",
       "  'text': \"In the heart of the nation, Washington, D.C. stands out as the capital, where the U.S. Capitol Building, a symbol of the country's democracy, is located. This city is central to American politics and history, hosting numerous national landmarks.\",\n",
       "  'meta': {},\n",
       "  'score': 0.9442544},\n",
       " {'id': 4,\n",
       "  'text': 'Washington, D.C. (also known as simply Washington or D.C., and officially as the District of Columbia) is the capital of the United States. It is a federal district. ',\n",
       "  'meta': {},\n",
       "  'score': 0.907902}]"
      ]
     },
     "execution_count": 14,
     "metadata": {},
     "output_type": "execute_result"
    }
   ],
   "source": [
    "rerank_request = RerankRequest(query=query, passages=passages)\n",
    "results = ranker_medium_int.rerank(rerank_request)\n",
    "print(\"=\" * 10)\n",
    "print(\"Hummmmm ... Wasn't expecting much and the results are bad.\")\n",
    "results"
   ]
  }
 ],
 "metadata": {
  "kernelspec": {
   "display_name": ".venv",
   "language": "python",
   "name": "python3"
  },
  "language_info": {
   "codemirror_mode": {
    "name": "ipython",
    "version": 3
   },
   "file_extension": ".py",
   "mimetype": "text/x-python",
   "name": "python",
   "nbconvert_exporter": "python",
   "pygments_lexer": "ipython3",
   "version": "3.10.12"
  }
 },
 "nbformat": 4,
 "nbformat_minor": 2
}
