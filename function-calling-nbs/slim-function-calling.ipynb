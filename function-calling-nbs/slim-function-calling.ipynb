{
 "cells": [
  {
   "cell_type": "markdown",
   "metadata": {},
   "source": [
    "# SLIMs"
   ]
  },
  {
   "cell_type": "markdown",
   "metadata": {},
   "source": [
    "RAG typically works without function calls. It retrieves relevant info from a pre-built knowledge base to answer your questions. However, a new development called Interactive RAG incorporates function calling. This allows the model to access and process information from external sources like databases and APIs during retrieval. This essentially gives RAG a much larger and more up-to-date knowledge pool to draw from, potentially leading to more comprehensive and relevant answers. While this approach offers advantages, it can also be slower and requires more resources."
   ]
  },
  {
   "cell_type": "code",
   "execution_count": null,
   "metadata": {},
   "outputs": [],
   "source": []
  }
 ],
 "metadata": {
  "language_info": {
   "name": "python"
  }
 },
 "nbformat": 4,
 "nbformat_minor": 2
}
