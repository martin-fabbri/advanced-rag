{
 "cells": [
  {
   "cell_type": "markdown",
   "metadata": {},
   "source": [
    "# LangChain RAG 201"
   ]
  },
  {
   "cell_type": "markdown",
   "metadata": {},
   "source": [
    "Tentative techniques to explore:\n",
    "\n",
    "1. MultiQueryRetriever\n",
    "2. Contextual Compression\n",
    "3. Ensemble Retrievers\n",
    "4. Self-quering Retrievers\n",
    "5. Time weighted vector store retrievers"
   ]
  },
  {
   "cell_type": "code",
   "execution_count": 2,
   "metadata": {},
   "outputs": [
    {
     "name": "stdout",
     "output_type": "stream",
     "text": [
      "\u001b[31mERROR: pip's dependency resolver does not currently take into account all the packages that are installed. This behaviour is the source of the following dependency conflicts.\n",
      "pytest 7.2.1 requires attrs>=19.2.0, but you have attrs 18.2.0 which is incompatible.\n",
      "gradient 2.0.6 requires marshmallow<3.0, but you have marshmallow 3.20.2 which is incompatible.\u001b[0m\u001b[31m\n",
      "\u001b[0m\u001b[33mWARNING: Running pip as the 'root' user can result in broken permissions and conflicting behaviour with the system package manager. It is recommended to use a virtual environment instead: https://pip.pypa.io/warnings/venv\u001b[0m\u001b[33m\n",
      "\u001b[0mNote: you may need to restart the kernel to use updated packages.\n"
     ]
    }
   ],
   "source": [
    "%pip install --q langchain"
   ]
  },
  {
   "cell_type": "code",
   "execution_count": 16,
   "metadata": {},
   "outputs": [
    {
     "name": "stdout",
     "output_type": "stream",
     "text": [
      "NAME         \tID          \tSIZE  \tMODIFIED       \n",
      "llama2:latest\t78e26419b446\t3.8 GB\t17 minutes ago\t\n"
     ]
    }
   ],
   "source": [
    "# %> curl -fsSL https://ollama.com/install.sh | sh\n",
    "# %> ollama serve\n",
    "# %> ollama pull llama2\n",
    "# %> ollama pull nomic-embed-text\n",
    "\n",
    "!ollama list"
   ]
  },
  {
   "cell_type": "code",
   "execution_count": 8,
   "metadata": {},
   "outputs": [
    {
     "name": "stdout",
     "output_type": "stream",
     "text": [
      "\n",
      " Of course! Here are five interesting facts about Roman history:\n",
      "\n",
      "1. The Roman Empire was the largest empire in the world at its peak, spanning across three continents and encompassing over 20% of the world's land area.\n",
      "2. The Roman language, Latin, is still studied today and has had a profound influence on many modern languages, including English. In fact, over 75% of English words have roots in Latin.\n",
      "3. The Roman calendar, which was based on a solar year, was the precursor to the modern Gregorian calendar used today. The Romans also invented the concept of days of the week, with names like Sunday (Latin: Dies Solis) and Monday (Latin: Dies Lunae) still in use today.\n",
      "4. The Roman Colosseum, completed in 80 AD, was the largest amphitheater in the ancient world and could hold up to 50,000 spectators. It was used for gladiatorial contests, animal hunts, and other public events.\n",
      "5. The Roman Empire had a complex system of governance, with power divided between the emperor, the Senate, and the assemblies of citizens. The concept of checks and balances, which is central to modern democracy, was first developed in ancient Rome."
     ]
    },
    {
     "data": {
      "text/plain": [
       "\"\\n Of course! Here are five interesting facts about Roman history:\\n\\n1. The Roman Empire was the largest empire in the world at its peak, spanning across three continents and encompassing over 20% of the world's land area.\\n2. The Roman language, Latin, is still studied today and has had a profound influence on many modern languages, including English. In fact, over 75% of English words have roots in Latin.\\n3. The Roman calendar, which was based on a solar year, was the precursor to the modern Gregorian calendar used today. The Romans also invented the concept of days of the week, with names like Sunday (Latin: Dies Solis) and Monday (Latin: Dies Lunae) still in use today.\\n4. The Roman Colosseum, completed in 80 AD, was the largest amphitheater in the ancient world and could hold up to 50,000 spectators. It was used for gladiatorial contests, animal hunts, and other public events.\\n5. The Roman Empire had a complex system of governance, with power divided between the emperor, the Senate, and the assemblies of citizens. The concept of checks and balances, which is central to modern democracy, was first developed in ancient Rome.\""
      ]
     },
     "execution_count": 8,
     "metadata": {},
     "output_type": "execute_result"
    }
   ],
   "source": [
    "from langchain.llms import Ollama\n",
    "from langchain.callbacks.manager import CallbackManager\n",
    "from langchain.callbacks.streaming_stdout import StreamingStdOutCallbackHandler\n",
    "\n",
    "llm = Ollama(\n",
    "    model=\"llama2\",\n",
    "    callback_manager=CallbackManager([StreamingStdOutCallbackHandler()]),\n",
    "    temperature=0.9,\n",
    ")\n",
    "\n",
    "llm(\"Tell me 5 facts about Roman history\")"
   ]
  },
  {
   "cell_type": "markdown",
   "metadata": {},
   "source": [
    "https://www.youtube.com/watch?v=2nLDe_igVnE\n",
    "https://github.com/langchain-ai/langchain/blob/master/cookbook/nomic_embedding_rag.ipynb\n"
   ]
  },
  {
   "cell_type": "code",
   "execution_count": null,
   "metadata": {},
   "outputs": [],
   "source": []
  },
  {
   "cell_type": "code",
   "execution_count": 21,
   "metadata": {},
   "outputs": [
    {
     "data": {
      "text/plain": [
       "768"
      ]
     },
     "execution_count": 21,
     "metadata": {},
     "output_type": "execute_result"
    }
   ],
   "source": [
    "from langchain_community.embeddings import OllamaEmbeddings\n",
    "\n",
    "embeddings = OllamaEmbeddings(model=\"nomic-embed-text\")\n",
    "text = \"Embed this text\"\n",
    "embed = embeddings.embed_query(text)\n",
    "len(embed)"
   ]
  }
 ],
 "metadata": {
  "kernelspec": {
   "display_name": "Python 3 (ipykernel)",
   "language": "python",
   "name": "python3"
  },
  "language_info": {
   "codemirror_mode": {
    "name": "ipython",
    "version": 3
   },
   "file_extension": ".py",
   "mimetype": "text/x-python",
   "name": "python",
   "nbconvert_exporter": "python",
   "pygments_lexer": "ipython3",
   "version": "3.9.16"
  }
 },
 "nbformat": 4,
 "nbformat_minor": 2
}
