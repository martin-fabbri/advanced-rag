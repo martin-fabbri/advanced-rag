{
 "cells": [
  {
   "cell_type": "markdown",
   "metadata": {},
   "source": [
    "# LangChain RAG 201"
   ]
  },
  {
   "cell_type": "markdown",
   "metadata": {},
   "source": [
    "Tentative techniques to explore:\n",
    "\n",
    "1. MultiQueryRetriever\n",
    "2. Contextual Compression\n",
    "3. Ensemble Retrievers\n",
    "4. Self-quering Retrievers\n",
    "5. Time weighted vector store retrievers"
   ]
  },
  {
   "cell_type": "code",
   "execution_count": 1,
   "metadata": {},
   "outputs": [
    {
     "name": "stdout",
     "output_type": "stream",
     "text": [
      "\u001b[33mWARNING: Running pip as the 'root' user can result in broken permissions and conflicting behaviour with the system package manager. It is recommended to use a virtual environment instead: https://pip.pypa.io/warnings/venv\u001b[0m\u001b[33m\n",
      "\u001b[0mNote: you may need to restart the kernel to use updated packages.\n",
      "\u001b[33mWARNING: Running pip as the 'root' user can result in broken permissions and conflicting behaviour with the system package manager. It is recommended to use a virtual environment instead: https://pip.pypa.io/warnings/venv\u001b[0m\u001b[33m\n",
      "\u001b[0mNote: you may need to restart the kernel to use updated packages.\n"
     ]
    }
   ],
   "source": [
    "%pip install --q langchain\n",
    "%pip install --q langchain-community"
   ]
  },
  {
   "cell_type": "code",
   "execution_count": 16,
   "metadata": {},
   "outputs": [
    {
     "name": "stdout",
     "output_type": "stream",
     "text": [
      "NAME         \tID          \tSIZE  \tMODIFIED       \n",
      "llama2:latest\t78e26419b446\t3.8 GB\t17 minutes ago\t\n"
     ]
    }
   ],
   "source": [
    "# %> curl -fsSL https://ollama.com/install.sh | sh\n",
    "# %> ollama serve\n",
    "# %> ollama pull llama2\n",
    "# %> ollama pull nomic-embed-text\n",
    "\n",
    "!ollama list"
   ]
  },
  {
   "cell_type": "code",
   "execution_count": 2,
   "metadata": {},
   "outputs": [
    {
     "name": "stderr",
     "output_type": "stream",
     "text": [
      "/usr/local/lib/python3.9/dist-packages/langchain_core/_api/deprecation.py:117: LangChainDeprecationWarning: The function `__call__` was deprecated in LangChain 0.1.7 and will be removed in 0.2.0. Use invoke instead.\n",
      "  warn_deprecated(\n"
     ]
    },
    {
     "name": "stdout",
     "output_type": "stream",
     "text": [
      "Of course! Here are five interesting facts about Roman history:\n",
      "\n",
      "1. The Roman Empire was the first global superpower: At its peak, the Roman Empire stretched from Britain to Egypt and from Spain to Syria, covering an area of approximately 5.9 million square miles. This makes it the first global superpower in human history.\n",
      "2. Rome was originally a kingdom, not an empire: The city of Rome was founded in 753 BC by Romulus, who was said to have been raised by a she-wolf. The early Roman Kingdom was ruled by kings, but it wasn't until the late Republic period (around 100 BC) that the term \"empire\" began to be used to describe Rome's growing territorial reach.\n",
      "3. Julius Caesar was assassinated on the Ides of March: On March 15, 44 BC, a group of senators led by Marcus Junius Brutus and Gaius Cassius Longinus stabbed Julius Caesar to death in the Roman Senate. This event is now known as the Ides of March and is still commemorated today.\n",
      "4. The Roman Colosseum was originally a gift from the emperor Vespasian: Vespasian, who ruled Rome from 79 to 86 AD, built the Colosseum as a gift for the people of Rome. It was completed by his son Titus in 80 AD and could hold up to 50,000 spectators.\n",
      "5. The Roman Empire legalized slavery: Although the Romans were known for their exploitation of slaves, they did not originally practice slavery. However, as the empire expanded and came into contact with other cultures, the institution of slavery became more common. By the 2nd century AD, the Roman Empire had legalized slavery throughout its territories.\n",
      "\n",
      "I hope you find these facts interesting! Is there anything else you would like to know about Roman history?"
     ]
    },
    {
     "data": {
      "text/plain": [
       "'Of course! Here are five interesting facts about Roman history:\\n\\n1. The Roman Empire was the first global superpower: At its peak, the Roman Empire stretched from Britain to Egypt and from Spain to Syria, covering an area of approximately 5.9 million square miles. This makes it the first global superpower in human history.\\n2. Rome was originally a kingdom, not an empire: The city of Rome was founded in 753 BC by Romulus, who was said to have been raised by a she-wolf. The early Roman Kingdom was ruled by kings, but it wasn\\'t until the late Republic period (around 100 BC) that the term \"empire\" began to be used to describe Rome\\'s growing territorial reach.\\n3. Julius Caesar was assassinated on the Ides of March: On March 15, 44 BC, a group of senators led by Marcus Junius Brutus and Gaius Cassius Longinus stabbed Julius Caesar to death in the Roman Senate. This event is now known as the Ides of March and is still commemorated today.\\n4. The Roman Colosseum was originally a gift from the emperor Vespasian: Vespasian, who ruled Rome from 79 to 86 AD, built the Colosseum as a gift for the people of Rome. It was completed by his son Titus in 80 AD and could hold up to 50,000 spectators.\\n5. The Roman Empire legalized slavery: Although the Romans were known for their exploitation of slaves, they did not originally practice slavery. However, as the empire expanded and came into contact with other cultures, the institution of slavery became more common. By the 2nd century AD, the Roman Empire had legalized slavery throughout its territories.\\n\\nI hope you find these facts interesting! Is there anything else you would like to know about Roman history?'"
      ]
     },
     "execution_count": 2,
     "metadata": {},
     "output_type": "execute_result"
    }
   ],
   "source": [
    "from langchain.llms import Ollama\n",
    "from langchain.callbacks.manager import CallbackManager\n",
    "from langchain.callbacks.streaming_stdout import StreamingStdOutCallbackHandler\n",
    "\n",
    "llm = Ollama(\n",
    "    model=\"llama2\",\n",
    "    callback_manager=CallbackManager([StreamingStdOutCallbackHandler()]),\n",
    "    temperature=0.9,\n",
    ")\n",
    "\n",
    "llm(\"Tell me 5 facts about Roman history\")"
   ]
  },
  {
   "cell_type": "markdown",
   "metadata": {},
   "source": [
    "https://www.youtube.com/watch?v=2nLDe_igVnE\n",
    "https://github.com/langchain-ai/langchain/blob/master/cookbook/nomic_embedding_rag.ipynb\n"
   ]
  },
  {
   "cell_type": "code",
   "execution_count": 3,
   "metadata": {},
   "outputs": [],
   "source": [
    "# Optional: LangSmith API keys\n",
    "import os\n",
    "\n",
    "os.environ[\"LANGCHAIN_TRACING_V2\"] = \"true\"\n",
    "os.environ[\"LANGCHAIN_ENDPOINT\"] = \"https://api.smith.langchain.com\"\n",
    "os.environ[\"LANGCHAIN_API_KEY\"] = \"ls__f40e06d2f1164365aa0ea071877c049c\""
   ]
  },
  {
   "cell_type": "code",
   "execution_count": 21,
   "metadata": {},
   "outputs": [
    {
     "data": {
      "text/plain": [
       "768"
      ]
     },
     "execution_count": 21,
     "metadata": {},
     "output_type": "execute_result"
    }
   ],
   "source": [
    "from langchain_community.embeddings import OllamaEmbeddings\n",
    "\n",
    "embeddings = OllamaEmbeddings(model=\"nomic-embed-text\")\n",
    "text = \"Embed this text\"\n",
    "embed = embeddings.embed_query(text)\n",
    "len(embed)"
   ]
  },
  {
   "cell_type": "code",
   "execution_count": 4,
   "metadata": {},
   "outputs": [],
   "source": [
    "from langchain_community.document_loaders import WebBaseLoader\n",
    "\n",
    "urls = [\n",
    "    \"https://lilianweng.github.io/posts/2023-06-23-agent/\",\n",
    "    \"https://lilianweng.github.io/posts/2023-03-15-prompt-engineering/\",\n",
    "    \"https://lilianweng.github.io/posts/2023-10-25-adv-attack-llm/\",\n",
    "]\n",
    "\n",
    "docs = [WebBaseLoader(url).load() for url in urls]\n",
    "doc_list = [item for sublist in docs for item in sublist]"
   ]
  }
 ],
 "metadata": {
  "kernelspec": {
   "display_name": "Python 3 (ipykernel)",
   "language": "python",
   "name": "python3"
  },
  "language_info": {
   "codemirror_mode": {
    "name": "ipython",
    "version": 3
   },
   "file_extension": ".py",
   "mimetype": "text/x-python",
   "name": "python",
   "nbconvert_exporter": "python",
   "pygments_lexer": "ipython3",
   "version": "3.9.16"
  }
 },
 "nbformat": 4,
 "nbformat_minor": 2
}
